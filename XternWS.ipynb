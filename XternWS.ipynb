{
 "cells": [
  {
   "cell_type": "markdown",
   "source": [
    "# Xtern Work Sample Assessment\n",
    "## Reference Information"
   ],
   "metadata": {
    "collapsed": false
   }
  },
  {
   "cell_type": "code",
   "execution_count": 2,
   "metadata": {
    "collapsed": true
   },
   "outputs": [],
   "source": [
    "# Housing Location: IUPUI -- 415 Porto Alegre St, Indianapolis, IN 46202\n",
    "\n",
    "# Candidate 1: The Speak Easy -- 5255 Winthrop Ave #110, Indianapolis, IN 46220\n",
    "# Candidate 2: zWORKS -- 85 E Cedar St #1502, Zionsville, IN 46077\n",
    "# Candidate 3: Launch Fishers -- 12175 Visionary Way, Fishers, IN 46038\n",
    "# Candidate 4: Industrious Mass Ave -- 350 Massachusetts Ave Suite 300, Indianapolis, IN 46204\n",
    "# Candidate 5: Launch Indy -- 525 S Meridian St, Indianapolis, IN 46225\n",
    "\n",
    "# Google Maps API Key: Redacted\n",
    "# Documenu API Key: Redacted"
   ]
  },
  {
   "cell_type": "code",
   "execution_count": 433,
   "outputs": [],
   "source": [
    "# Importing Needed Tools/Libraries\n",
    "import numpy as np\n",
    "import pandas as pd\n",
    "pd.options.display.width = 200\n",
    "pd.options.display.max_colwidth = 20\n",
    "import googlemaps\n",
    "import requests\n",
    "from requests.auth import HTTPBasicAuth\n",
    "\n",
    "# Setting up google maps client\n",
    "G_API_KEY = '' # Redacted\n",
    "client = googlemaps.Client(G_API_KEY)"
   ],
   "metadata": {
    "collapsed": false,
    "pycharm": {
     "name": "#%%\n"
    }
   }
  },
  {
   "cell_type": "code",
   "execution_count": 187,
   "outputs": [
    {
     "name": "stdout",
     "output_type": "stream",
     "text": [
      "                   Name                                            Address       Type\n",
      "0                 IUPUI        415 Porto Alegre St, Indianapolis, IN 46202    Housing\n",
      "4  Industrious Mass Ave  350 Massachusetts Ave Suite 300, Indianapolis,...  Coworking\n",
      "3        Launch Fishers             12175 Visionary Way, Fishers, IN 46038  Coworking\n",
      "5           Launch Indy          525 S Meridian St, Indianapolis, IN 46225  Coworking\n",
      "1        The Speak Easy     5255 Winthrop Ave #110, Indianapolis, IN 46220  Coworking\n",
      "2                zWORKS          85 E Cedar St #1502, Zionsville, IN 46077  Coworking\n"
     ]
    }
   ],
   "source": [
    "# Loading Dataset and gathering google maps information\n",
    "locations = pd.read_csv('Data.csv')\n",
    "locations.sort_values(by='Name', inplace=True)\n",
    "responses = []\n",
    "for i in locations['Address']:\n",
    "    responses.append(client.places(i))\n",
    "print(locations)"
   ],
   "metadata": {
    "collapsed": false,
    "pycharm": {
     "name": "#%%\n"
    }
   }
  },
  {
   "cell_type": "code",
   "execution_count": 188,
   "outputs": [
    {
     "name": "stdout",
     "output_type": "stream",
     "text": [
      "                   Name                   geometry\n",
      "0                 IUPUI    [39.77389, -86.1849117]\n",
      "4  Industrious Mass Ave    [39.765831, -86.157617]\n",
      "3        Launch Fishers  [39.9667636, -86.0088088]\n",
      "5           Launch Indy  [39.7593486, -86.1580467]\n",
      "1        The Speak Easy  [39.8488729, -86.1412948]\n",
      "2                zWORKS  [39.9514923, -86.2608697]\n"
     ]
    }
   ],
   "source": [
    "# Appending latitudes and longitudes as new column in dataset\n",
    "geoms = []\n",
    "for i in responses:\n",
    "    geoms.append(list(i.get('results')[0]['geometry']['location'].values()))\n",
    "locations['geometry'] = geoms\n",
    "print(locations[['Name', 'geometry']])"
   ],
   "metadata": {
    "collapsed": false,
    "pycharm": {
     "name": "#%%\n"
    }
   }
  },
  {
   "cell_type": "code",
   "execution_count": 262,
   "outputs": [
    {
     "name": "stdout",
     "output_type": "stream",
     "text": [
      "                   Name                                            Address       Type                   geometry  distance(km)  Avg Price  Price Variance  Avg Rating  Rating Variance\n",
      "0                 IUPUI        415 Porto Alegre St, Indianapolis, IN 46202    Housing    [39.77389, -86.1849117]          0.00       1.25            0.10        4.10             0.40\n",
      "1  Industrious Mass Ave  350 Massachusetts Ave Suite 300, Indianapolis,...  Coworking    [39.765831, -86.157617]          2.50       1.57            0.24        4.37             0.17\n",
      "2        Launch Fishers             12175 Visionary Way, Fishers, IN 46038  Coworking  [39.9667636, -86.0088088]         26.19       1.90            0.54        4.12             0.42\n",
      "3           Launch Indy          525 S Meridian St, Indianapolis, IN 46225  Coworking  [39.7593486, -86.1580467]          2.81       1.58            0.27        4.18             0.30\n",
      "4        The Speak Easy     5255 Winthrop Ave #110, Indianapolis, IN 46220  Coworking  [39.8488729, -86.1412948]          9.13       1.97            0.63        4.14             0.47\n",
      "5                zWORKS          85 E Cedar St #1502, Zionsville, IN 46077  Coworking  [39.9514923, -86.2608697]         20.79       1.48            0.22        4.06             0.46\n"
     ]
    }
   ],
   "source": [
    "import pgeocode as geo\n",
    "def get_dist(coordinates): # Calculating Distances from IUPUI\n",
    "    return np.round(geo.haversine_distance([coordinates], [[39.77389, -86.1849117]]), 2)[0]\n",
    "locations['distance(km)'] = locations.geometry.map(get_dist)\n",
    "locations.reset_index(drop=True, inplace=True)\n",
    "print(locations)"
   ],
   "metadata": {
    "collapsed": false,
    "pycharm": {
     "name": "#%%\n"
    }
   }
  },
  {
   "cell_type": "markdown",
   "source": [
    "## Gathering Up To 60 Closest & Most Prominent Nearby Restaurants for Each Location (Biased to 1 Mile Radius)\n",
    "### Collected restaurants are 5-10 walking minutes from associated location"
   ],
   "metadata": {
    "collapsed": false
   }
  },
  {
   "cell_type": "code",
   "execution_count": 263,
   "outputs": [],
   "source": [
    "# https://maps.googleapis.com/maps/api/place/nearbysearch/json?&location=latitude,longitude\n",
    "nearby_restaurants = []\n",
    "import time\n",
    "for i in locations.geometry:\n",
    "    pages = []\n",
    "    latitude = i[0]\n",
    "    longitude = i[1]\n",
    "    query = 'https://maps.googleapis.com/maps/api/place/nearbysearch/json?&location='+str(latitude)+','+str(longitude)+'&type=restaurant&rankby=distance'\n",
    "    response = requests.get(query + '&key='+G_API_KEY)\n",
    "    pages.append(response)\n",
    "    while 'next_page_token' in response.json().keys():\n",
    "        time.sleep(2) # Accounts for API's delay in processing next page tokens\n",
    "        newquery = 'https://maps.googleapis.com/maps/api/place/nearbysearch/json?&pagetoken=' + response.json()['next_page_token']\n",
    "        response = requests.get(newquery + '&key='+G_API_KEY)\n",
    "        pages.append(response)\n",
    "    nearby_restaurants.append(pages)"
   ],
   "metadata": {
    "collapsed": false,
    "pycharm": {
     "name": "#%%\n"
    }
   }
  },
  {
   "cell_type": "code",
   "execution_count": 264,
   "outputs": [],
   "source": [
    "flattened_restaurants = [] # Flattening multiple page responses\n",
    "for i in nearby_restaurants:\n",
    "    temp = []\n",
    "    for j in i:\n",
    "        temp.extend(j.json()['results'])\n",
    "    flattened_restaurants.append(temp)"
   ],
   "metadata": {
    "collapsed": false,
    "pycharm": {
     "name": "#%%\n"
    }
   }
  },
  {
   "cell_type": "markdown",
   "source": [
    "### Saving and Importing Query Data"
   ],
   "metadata": {
    "collapsed": false
   }
  },
  {
   "cell_type": "code",
   "execution_count": 441,
   "outputs": [],
   "source": [
    "# Logging restaurant queries as json\n",
    "import json\n",
    "for i in range(6):\n",
    "    file_name = locations.Name[i]\n",
    "    with open(file_name + '.json', 'w') as fp:\n",
    "        data = []\n",
    "        for j in range(len(nearby_restaurants[i])):\n",
    "            data.append(nearby_restaurants[i][j].json())\n",
    "        json.dump(data, fp)\n",
    "    fp.close()"
   ],
   "metadata": {
    "collapsed": false,
    "pycharm": {
     "name": "#%%\n"
    }
   }
  },
  {
   "cell_type": "code",
   "execution_count": 336,
   "outputs": [],
   "source": [
    "# Loading restaurant queries as dicts from json\n",
    "import json\n",
    "loaded_flattened_restaurants = []\n",
    "for i in locations.Name:\n",
    "    with open(i+'.json', 'r') as fp:\n",
    "        unflat_data = json.load(fp)\n",
    "        temp = []\n",
    "        for j in unflat_data:\n",
    "            temp.extend(j['results'])\n",
    "        loaded_flattened_restaurants.append(temp)"
   ],
   "metadata": {
    "collapsed": false,
    "pycharm": {
     "name": "#%%\n"
    }
   }
  },
  {
   "cell_type": "markdown",
   "source": [
    "## Building DataFrame and Resolving Missing Values"
   ],
   "metadata": {
    "collapsed": false
   }
  },
  {
   "cell_type": "code",
   "execution_count": 399,
   "outputs": [
    {
     "name": "stdout",
     "output_type": "stream",
     "text": [
      "                                                Name  Rating Num_Ratings  Price                           Id              Status AscLoc                                           BusTypes\n",
      "0                     Café Soleil at Eskenazi Health     4.6          37    NaN  ChIJ3Z7ruzdXa4gRNsIfdlPQ5R4  CLOSED_TEMPORARILY  IUPUI  [restaurant, food, point_of_interest, establis...\n",
      "1                                    Farmer's Fridge     4.5           2    NaN  ChIJtXOEuipXa4gRN_AKkdHuXWI         OPERATIONAL  IUPUI  [restaurant, food, point_of_interest, establis...\n",
      "2  Ingram Micro Mobility Marketplace at Eskenazi ...     4.6           7    NaN  ChIJoawzbTdXa4gRklpVautN-Ko         OPERATIONAL  IUPUI  [restaurant, food, point_of_interest, establis...\n",
      "3                                    Farmer's Fridge     NaN         NaN    NaN  ChIJXWWxhStXa4gRLaXQ8DswcMw         OPERATIONAL  IUPUI  [restaurant, food, point_of_interest, establis...\n",
      "4                                 Boar's Head Bistro     NaN         NaN    NaN  ChIJHznwGgtXa4gRvz1_0UfZfzw         OPERATIONAL  IUPUI  [restaurant, food, point_of_interest, establis...\n"
     ]
    }
   ],
   "source": [
    "restaurants = pd.DataFrame(columns=['Name', 'Rating', 'Num_Ratings', 'Price', 'Id', 'Status', 'AscLoc', 'BusTypes'])\n",
    "for idx, loc in enumerate(flattened_restaurants):\n",
    "    for place in loc:\n",
    "        place_info = {'Name':place['name'], 'Rating':place['rating'] if 'rating' in place.keys() else np.nan, 'Num_Ratings':place['user_ratings_total'] if 'user_ratings_total' in place.keys() else np.nan, 'Price':place['price_level'] if 'price_level' in place.keys() else np.nan, 'Id':place['place_id'], 'Status':place['business_status'] if 'business_status' in place.keys() else 'null', 'AscLoc':locations.Name[idx], 'BusTypes':place['types']}\n",
    "        restaurants = restaurants.append(place_info, ignore_index=True)\n",
    "print(restaurants.head())"
   ],
   "metadata": {
    "collapsed": false,
    "pycharm": {
     "name": "#%%\n"
    }
   }
  },
  {
   "cell_type": "code",
   "execution_count": 400,
   "outputs": [
    {
     "name": "stdout",
     "output_type": "stream",
     "text": [
      "                      Name  Rating  Num_Ratings  Price  Id  Status  BusTypes\n",
      "AscLoc                                                                      \n",
      "IUPUI                   60      53           53     32  60      60        60\n",
      "Industrious Mass Ave    60      57           57     38  60      60        60\n",
      "Launch Fishers          60      57           57     44  60      60        60\n",
      "Launch Indy             60      55           55     39  60      60        60\n",
      "The Speak Easy          60      57           57     42  60      60        60\n",
      "zWORKS                  60      59           59     48  60      60        60\n",
      "['CLOSED_TEMPORARILY' 'OPERATIONAL']\n"
     ]
    }
   ],
   "source": [
    "print(restaurants.groupby('AscLoc').count()) # Assuring roughly equal # of restaurants and inspecting missing values\n",
    "print(restaurants.Status.unique()) # Assuring no permanently closed establishments"
   ],
   "metadata": {
    "collapsed": false,
    "pycharm": {
     "name": "#%%\n"
    }
   }
  },
  {
   "cell_type": "code",
   "execution_count": 401,
   "outputs": [
    {
     "name": "stdout",
     "output_type": "stream",
     "text": [
      "                      Name  Rating  Num_Ratings  Price  Id  Status  BusTypes\n",
      "AscLoc                                                                      \n",
      "IUPUI                   60      60           60     60  60      60        60\n",
      "Industrious Mass Ave    60      60           60     60  60      60        60\n",
      "Launch Fishers          60      60           60     60  60      60        60\n",
      "Launch Indy             60      60           60     60  60      60        60\n",
      "The Speak Easy          60      60           60     60  60      60        60\n",
      "zWORKS                  60      60           60     60  60      60        60\n"
     ]
    }
   ],
   "source": [
    "# Imputing missing values using column averages of each group\n",
    "restaurants['Rating'] = restaurants.groupby('AscLoc').Rating.transform(lambda x: x.fillna(x.mean()))\n",
    "restaurants['Price'] = restaurants.groupby('AscLoc').Price.transform(lambda x: x.fillna(x.mean()))\n",
    "restaurants['Num_Ratings'] = restaurants.groupby('AscLoc').Num_Ratings.transform(lambda x: x.fillna(x.mean()))\n",
    "print(restaurants.groupby('AscLoc').count()) # Assuring no missing values"
   ],
   "metadata": {
    "collapsed": false,
    "pycharm": {
     "name": "#%%\n"
    }
   }
  },
  {
   "cell_type": "code",
   "execution_count": 402,
   "outputs": [
    {
     "name": "stdout",
     "output_type": "stream",
     "text": [
      "                   Name                                            Address       Type                   geometry  distance(km)  Avg Price  Price Variance  Avg Rating  Rating Variance  Avg Open  \\\n",
      "0                 IUPUI        415 Porto Alegre St, Indianapolis, IN 46202    Housing    [39.77389, -86.1849117]          0.00       1.25            0.10        4.10             0.40      9.73   \n",
      "1  Industrious Mass Ave  350 Massachusetts Ave Suite 300, Indianapolis,...  Coworking    [39.765831, -86.157617]          2.50       1.97            0.63        4.14             0.47     11.86   \n",
      "2        Launch Fishers             12175 Visionary Way, Fishers, IN 46038  Coworking  [39.9667636, -86.0088088]         26.19       1.48            0.22        4.06             0.46      9.71   \n",
      "3           Launch Indy          525 S Meridian St, Indianapolis, IN 46225  Coworking  [39.7593486, -86.1580467]          2.81       1.90            0.54        4.12             0.42     12.17   \n",
      "4        The Speak Easy     5255 Winthrop Ave #110, Indianapolis, IN 46220  Coworking  [39.8488729, -86.1412948]          9.13       1.57            0.24        4.37             0.17     11.51   \n",
      "5                zWORKS          85 E Cedar St #1502, Zionsville, IN 46077  Coworking  [39.9514923, -86.2608697]         20.79       1.58            0.27        4.18             0.30     10.05   \n",
      "\n",
      "   Avg Close  \n",
      "0      21.36  \n",
      "1      21.14  \n",
      "2      21.00  \n",
      "3      21.50  \n",
      "4      20.83  \n",
      "5      20.56  \n"
     ]
    }
   ],
   "source": [
    "locations['Avg Price'] = round(restaurants.groupby('AscLoc').Price.mean(), 2).values.tolist()\n",
    "locations['Price Variance'] = round(restaurants.groupby('AscLoc').Price.var(), 2).values.tolist()\n",
    "locations['Avg Rating'] = round(restaurants.groupby('AscLoc').Rating.mean(), 2).values.tolist()\n",
    "locations['Rating Variance'] = round(restaurants.groupby('AscLoc').Rating.var(), 2).values.tolist()\n",
    "print(locations)"
   ],
   "metadata": {
    "collapsed": false,
    "pycharm": {
     "name": "#%%\n"
    }
   }
  },
  {
   "cell_type": "code",
   "execution_count": 403,
   "outputs": [],
   "source": [
    "# Removing less useful type descriptors\n",
    "types_to_remove = ['point_of_interest', 'establishment', 'restaurant', 'food', 'meal_takeaway']\n",
    "\n",
    "def prune_types(existing):\n",
    "    final = []\n",
    "    for i in existing:\n",
    "        if i not in types_to_remove:\n",
    "            final.append(i)\n",
    "    return final\n",
    "\n",
    "restaurants.BusTypes = restaurants.BusTypes.map(prune_types)"
   ],
   "metadata": {
    "collapsed": false,
    "pycharm": {
     "name": "#%%\n"
    }
   }
  },
  {
   "cell_type": "code",
   "execution_count": 404,
   "outputs": [
    {
     "name": "stdout",
     "output_type": "stream",
     "text": [
      "IUPUI [('store', 5), ('bar', 3), ('meal_delivery', 3), ('cafe', 1)] \n",
      "\n",
      "Industrious Mass Ave [('bar', 23), ('meal_delivery', 5), ('cafe', 3), ('store', 3), ('night_club', 2), ('bowling_alley', 1), ('bakery', 1), ('casino', 1), ('liquor_store', 1)] \n",
      "\n",
      "Launch Fishers [('store', 12), ('bar', 10), ('cafe', 7), ('meal_delivery', 4), ('convenience_store', 3), ('atm', 3), ('gas_station', 3), ('finance', 3), ('health', 3), ('car_wash', 2), ('bakery', 1), ('school', 1), ('night_club', 1)] \n",
      "\n",
      "Launch Indy [('bar', 26), ('store', 6), ('cafe', 3), ('meal_delivery', 3), ('night_club', 2), ('bakery', 1), ('bowling_alley', 1)] \n",
      "\n",
      "The Speak Easy [('bar', 17), ('store', 8), ('meal_delivery', 2), ('cafe', 2), ('bakery', 2), ('grocery_or_supermarket', 1), ('liquor_store', 1), ('gas_station', 1), ('convenience_store', 1)] \n",
      "\n",
      "zWORKS [('store', 11), ('bar', 8), ('cafe', 6), ('bakery', 2), ('meal_delivery', 2), ('gas_station', 1)] \n",
      "\n",
      "['cafe', 'store', 'bar', 'meal_delivery', 'bowling_alley', 'night_club', 'bakery', 'casino', 'liquor_store', 'convenience_store', 'atm', 'car_wash', 'gas_station', 'finance', 'health', 'school', 'grocery_or_supermarket']\n"
     ]
    }
   ],
   "source": [
    "# Inspecting most frequent business types by area\n",
    "all_unique = []\n",
    "for loc in restaurants.AscLoc.unique():\n",
    "    unique = {}\n",
    "    for i in restaurants[restaurants.AscLoc == loc].BusTypes:\n",
    "        for type in i:\n",
    "            unique[type] = unique.get(type, 0) + 1\n",
    "            if type not in all_unique:\n",
    "                all_unique.append(type)\n",
    "    freqs = []\n",
    "    for i in unique.keys():\n",
    "        freqs.append((i, unique[i]))\n",
    "    freqs.sort(key = lambda x: x[1], reverse=True)\n",
    "    print(loc, freqs, '\\n')\n",
    "\n",
    "print(all_unique)"
   ],
   "metadata": {
    "collapsed": false,
    "pycharm": {
     "name": "#%%\n"
    }
   }
  },
  {
   "cell_type": "markdown",
   "source": [
    "## Gathering info on hours"
   ],
   "metadata": {
    "collapsed": false
   }
  },
  {
   "cell_type": "code",
   "execution_count": 357,
   "outputs": [],
   "source": [
    "#https://maps.googleapis.com/maps/api/place/details/json?place_id=?fields=opening_hours\n",
    "def time_format(time):\n",
    "    return time[:2] + ':' + time[2:]\n",
    "\n",
    "# Collecting arrays of opening and closing times for each restaurant in dataframe\n",
    "hours = []\n",
    "for i in restaurants.Id:\n",
    "    query = 'https://maps.googleapis.com/maps/api/place/details/json?place_id=' + i + '&fields=opening_hours&key=' + G_API_KEY\n",
    "    response = requests.get(query)\n",
    "    if 'opening_hours' in response.json()['result'].keys() and 'periods' in response.json()['result']['opening_hours'].keys():\n",
    "        periods = response.json()['result']['opening_hours']['periods']\n",
    "        open_close = [[time_format(i['open']['time']), time_format(i['close']['time']) if 'close' in i.keys() else 'none'] for i in periods]\n",
    "        hours.append(open_close)\n",
    "    else:\n",
    "        hours.append([['none', 'none']] * 7)\n",
    "restaurants['Hours'] = hours"
   ],
   "metadata": {
    "collapsed": false,
    "pycharm": {
     "name": "#%%\n"
    }
   }
  },
  {
   "cell_type": "code",
   "execution_count": 381,
   "outputs": [],
   "source": [
    "import math\n",
    "# Defining function to calculate average close given a series of closing times for single restaurant\n",
    "def avg_close(hours):\n",
    "    running_sum = 0\n",
    "    for i in hours:\n",
    "        close = i[1]\n",
    "        if close == 'none':\n",
    "            if i[0] == 'none':\n",
    "                return np.nan\n",
    "            else:\n",
    "                return 30.0 # This case represents all-night hours; for simplicity's sake replacing with an early morning close. Should not be an issue given opening time is not considered here.\n",
    "        hour = close[:2]\n",
    "        minute = math.trunc(int(close[3:]) / .6)\n",
    "        close_time = float(hour + '.' + str(minute))\n",
    "        if close_time < 6: # Assume closing late night\n",
    "            close_time += 24\n",
    "        running_sum += close_time\n",
    "    running_sum /= len(hours)\n",
    "    return running_sum\n",
    "\n",
    "# Defining function to calculate average open given a series of opening times for a single restaurant\n",
    "def avg_open(hours):\n",
    "    running_sum = 0\n",
    "    for i in hours:\n",
    "        open = i[0]\n",
    "        if open == 'none':\n",
    "            return np.nan\n",
    "        hour = open[:2]\n",
    "        minute = math.trunc(int(open[3:]) / .6)\n",
    "        open_time = float(hour + '.' + str(minute))\n",
    "        running_sum += open_time\n",
    "    running_sum /= len(hours)\n",
    "    return running_sum"
   ],
   "metadata": {
    "collapsed": false,
    "pycharm": {
     "name": "#%%\n"
    }
   }
  },
  {
   "cell_type": "code",
   "execution_count": 405,
   "outputs": [
    {
     "name": "stdout",
     "output_type": "stream",
     "text": [
      "                                          Name                                              Hours   Avg_Open  Avg_Close\n",
      "60                  The Oceanaire Seafood Room  [[17:00, 21:00], [17:00, 21:00], [17:00, 21:00...  17.000000  21.285714\n",
      "61                 Pearl Street Pizzeria & Pub  [[12:00, 02:00], [11:00, 02:00], [11:00, 02:00...  11.285714  26.000000\n",
      "62                                    Tin Roof  [[11:00, 03:00], [16:00, 03:00], [16:00, 03:00...  14.333333  27.000000\n",
      "63           O'Reilly's Irish Bar & Restaurant  [[11:00, 00:00], [11:00, 00:00], [11:00, 00:00...  11.000000  24.000000\n",
      "64                                        Nada  [[17:00, 22:00], [17:00, 22:00], [17:00, 22:00...  17.000000  22.000000\n",
      "65                          Buffalo Wild Wings  [[11:00, 22:00], [11:00, 22:00], [11:00, 22:00...  11.000000  22.285714\n",
      "66                          Gallery Pastry Bar  [[08:00, 16:00], [08:00, 16:00], [08:00, 16:00...   8.000000  16.000000\n",
      "67                 Prime 47- Indy's Steakhouse  [[17:00, 21:00], [17:00, 21:00], [17:00, 21:00...  17.000000  21.333333\n",
      "68  INDYO FROZEN YOGURT, CARAMEL CORN & COFFEE  [[12:00, 18:00], [10:00, 19:00], [10:00, 19:00...  10.285714  18.857143\n",
      "69                                  Yard House  [[11:00, 22:30], [11:00, 22:30], [11:00, 22:30...  11.000000  22.785714\n",
      "                      Name  Rating  Num_Ratings  Price  Id  Status  BusTypes  Hours  Avg_Close  Avg_Open\n",
      "AscLoc                                                                                                  \n",
      "IUPUI                   60      60           60     60  60      60        60     60         52        52\n",
      "Industrious Mass Ave    60      60           60     60  60      60        60     60         56        56\n",
      "Launch Fishers          60      60           60     60  60      60        60     60         58        58\n",
      "Launch Indy             60      60           60     60  60      60        60     60         50        50\n",
      "The Speak Easy          60      60           60     60  60      60        60     60         58        58\n",
      "zWORKS                  60      60           60     60  60      60        60     60         55        55\n"
     ]
    }
   ],
   "source": [
    "restaurants['Hours'] = hours\n",
    "restaurants['Avg_Close'] = restaurants.Hours.map(avg_close)\n",
    "restaurants['Avg_Open'] = restaurants.Hours.map(avg_open)\n",
    "print(restaurants[['Name', 'Hours', 'Avg_Open', 'Avg_Close']][60:70])\n",
    "print(restaurants.groupby('AscLoc').count()) # Introduced new cols which have missing values"
   ],
   "metadata": {
    "collapsed": false,
    "pycharm": {
     "name": "#%%\n"
    }
   }
  },
  {
   "cell_type": "code",
   "execution_count": 406,
   "outputs": [
    {
     "name": "stdout",
     "output_type": "stream",
     "text": [
      "                      Name  Rating  Num_Ratings  Price  Id  Status  BusTypes  Hours  Avg_Close  Avg_Open\n",
      "AscLoc                                                                                                  \n",
      "IUPUI                   60      60           60     60  60      60        60     60         60        60\n",
      "Industrious Mass Ave    60      60           60     60  60      60        60     60         60        60\n",
      "Launch Fishers          60      60           60     60  60      60        60     60         60        60\n",
      "Launch Indy             60      60           60     60  60      60        60     60         60        60\n",
      "The Speak Easy          60      60           60     60  60      60        60     60         60        60\n",
      "zWORKS                  60      60           60     60  60      60        60     60         60        60\n"
     ]
    }
   ],
   "source": [
    "# Imputing missing values using column averages of each group\n",
    "restaurants['Avg_Close'] = restaurants.groupby('AscLoc').Avg_Close.transform(lambda x: x.fillna(x.mean()))\n",
    "restaurants['Avg_Open'] = restaurants.groupby('AscLoc').Avg_Open.transform(lambda x: x.fillna(x.mean()))\n",
    "print(restaurants.groupby('AscLoc').count()) # All values present, can now analyze by location"
   ],
   "metadata": {
    "collapsed": false,
    "pycharm": {
     "name": "#%%\n"
    }
   }
  },
  {
   "cell_type": "code",
   "execution_count": 407,
   "outputs": [
    {
     "name": "stdout",
     "output_type": "stream",
     "text": [
      "                   Name  Avg Open  Avg Close\n",
      "0                 IUPUI      9.73      21.36\n",
      "1  Industrious Mass Ave     11.86      21.14\n",
      "2        Launch Fishers      9.71      21.00\n",
      "3           Launch Indy     12.17      21.50\n",
      "4        The Speak Easy     11.51      20.83\n",
      "5                zWORKS     10.05      20.56\n"
     ]
    }
   ],
   "source": [
    "locations['Avg Open'] = round(restaurants.groupby('AscLoc').Avg_Open.mean(), 2).values.tolist()\n",
    "locations['Avg Close'] = round(restaurants.groupby('AscLoc').Avg_Close.mean(), 2).values.tolist()\n",
    "print(locations[['Name', 'Avg Open', 'Avg Close']])\n",
    "# As anticipated, Industrious Mass and Launch Indy have the two latest average closing times at roughly 9:08 and 9:30, respectively.\n",
    "# Average Open times show that Launch Fishers and zWORKS tend to have earlier hours, but this is likely due to the frequency of convenience stores and gas stations as opposed to restaurants and bars."
   ],
   "metadata": {
    "collapsed": false,
    "pycharm": {
     "name": "#%%\n"
    }
   }
  },
  {
   "cell_type": "markdown",
   "source": [
    "## Investigating Other Nearby Businesses"
   ],
   "metadata": {
    "collapsed": false
   }
  },
  {
   "cell_type": "code",
   "execution_count": 391,
   "outputs": [],
   "source": [
    "nearby_tourism = []\n",
    "import time\n",
    "\n",
    "for i in locations.geometry:\n",
    "    pages = []\n",
    "    latitude = i[0]\n",
    "    longitude = i[1]\n",
    "    query = 'https://maps.googleapis.com/maps/api/place/nearbysearch/json?&location=' + str(latitude) + ',' + str(\n",
    "        longitude) + '&type=tourist_attraction&rankby=distance'\n",
    "    response = requests.get(query + '&key=' + G_API_KEY)\n",
    "    pages.append(response)\n",
    "    while 'next_page_token' in response.json().keys():\n",
    "        time.sleep(2)  # Accounts for API's delay in processing next page tokens\n",
    "        newquery = 'https://maps.googleapis.com/maps/api/place/nearbysearch/json?&pagetoken=' + response.json()[\n",
    "            'next_page_token']\n",
    "        response = requests.get(newquery + '&key=' + G_API_KEY)\n",
    "        pages.append(response)\n",
    "    nearby_tourism.append(pages)"
   ],
   "metadata": {
    "collapsed": false,
    "pycharm": {
     "name": "#%%\n"
    }
   }
  },
  {
   "cell_type": "code",
   "execution_count": 392,
   "outputs": [],
   "source": [
    "flattened_tourism = []  # Flattening multiple page responses\n",
    "for i in nearby_tourism:\n",
    "    temp = []\n",
    "    for j in i:\n",
    "        temp.extend(j.json()['results'])\n",
    "    flattened_tourism.append(temp)"
   ],
   "metadata": {
    "collapsed": false,
    "pycharm": {
     "name": "#%%\n"
    }
   }
  },
  {
   "cell_type": "markdown",
   "source": [
    "## Logging and Loading Tourism Query Data"
   ],
   "metadata": {
    "collapsed": false
   }
  },
  {
   "cell_type": "code",
   "execution_count": 442,
   "outputs": [],
   "source": [
    "# Logging restaurant queries as json\n",
    "import json\n",
    "\n",
    "for i in range(6):\n",
    "    file_name = locations.Name[i]\n",
    "    with open(file_name + '_Tourism.json', 'w') as fp:\n",
    "        data = []\n",
    "        for j in range(len(nearby_tourism[i])):\n",
    "            data.append(nearby_tourism[i][j].json())\n",
    "        json.dump(data, fp)\n",
    "    fp.close()"
   ],
   "metadata": {
    "collapsed": false,
    "pycharm": {
     "name": "#%%\n"
    }
   }
  },
  {
   "cell_type": "code",
   "execution_count": null,
   "outputs": [],
   "source": [
    "# Loading restaurant queries as dicts from json\n",
    "import json\n",
    "\n",
    "loaded_flattened_tourism = []\n",
    "for i in locations.Name:\n",
    "    with open(i + '_Tourism.json', 'r') as fp:\n",
    "        unflat_data = json.load(fp)\n",
    "        temp = []\n",
    "        for j in unflat_data:\n",
    "            temp.extend(j['results'])\n",
    "        loaded_flattened_tourism.append(temp)"
   ],
   "metadata": {
    "collapsed": false,
    "pycharm": {
     "name": "#%%\n"
    }
   }
  },
  {
   "cell_type": "markdown",
   "source": [
    "## Building Tourism Dataframe"
   ],
   "metadata": {
    "collapsed": false
   }
  },
  {
   "cell_type": "code",
   "execution_count": 410,
   "outputs": [
    {
     "name": "stdout",
     "output_type": "stream",
     "text": [
      "                                          Name  Rating Num_Ratings  Price                           Id              Status AscLoc                                           BusTypes\n",
      "0                                  Ball Garden     4.7           3    NaN  ChIJ335SSTZXa4gRYDAKVmjGMD4         OPERATIONAL  IUPUI  [park, tourist_attraction, point_of_interest, ...\n",
      "1                              Stringtown Park     4.1          77    NaN  ChIJuasM5UNXa4gRPY5xO4OAH8M         OPERATIONAL  IUPUI  [park, tourist_attraction, point_of_interest, ...\n",
      "2  Simon Skjodt International Orangutan Center     4.8         172    NaN  ChIJOUBHmU5Xa4gRVKTCu4btNaI         OPERATIONAL  IUPUI  [tourist_attraction, point_of_interest, establ...\n",
      "3                             Indianapolis Zoo     4.5       14979    NaN  ChIJK1-_KkxXa4gRazRkyTLNKBw         OPERATIONAL  IUPUI  [zoo, aquarium, tourist_attraction, point_of_i...\n",
      "4                          White River Gardens     4.7         876    NaN  ChIJK1-_KkxXa4gRw-A9oD9K_LY  CLOSED_TEMPORARILY  IUPUI  [tourist_attraction, park, point_of_interest, ...\n"
     ]
    }
   ],
   "source": [
    "tourism = pd.DataFrame(columns=['Name', 'Rating', 'Num_Ratings', 'Price', 'Id', 'Status', 'AscLoc', 'BusTypes'])\n",
    "for idx, loc in enumerate(flattened_tourism):\n",
    "    for place in loc:\n",
    "        place_info = {'Name':place['name'], 'Rating':place['rating'] if 'rating' in place.keys() else np.nan, 'Num_Ratings':place['user_ratings_total'] if 'user_ratings_total' in place.keys() else np.nan, 'Price':place['price_level'] if 'price_level' in place.keys() else np.nan, 'Id':place['place_id'], 'Status':place['business_status'] if 'business_status' in place.keys() else 'null', 'AscLoc':locations.Name[idx], 'BusTypes':place['types']}\n",
    "        tourism = tourism.append(place_info, ignore_index=True)\n",
    "print(tourism.head())"
   ],
   "metadata": {
    "collapsed": false,
    "pycharm": {
     "name": "#%%\n"
    }
   }
  },
  {
   "cell_type": "code",
   "execution_count": 411,
   "outputs": [
    {
     "name": "stdout",
     "output_type": "stream",
     "text": [
      "                      Name  Rating  Num_Ratings  Price  Id  Status  BusTypes\n",
      "AscLoc                                                                      \n",
      "IUPUI                   60      57           57      0  60      60        60\n",
      "Industrious Mass Ave    54      51           51      0  54      54        54\n",
      "Launch Fishers          26      26           26      0  26      26        26\n",
      "Launch Indy             49      46           46      0  49      49        49\n",
      "The Speak Easy          38      38           38      0  38      38        38\n",
      "zWORKS                  12      12           12      0  12      12        12\n"
     ]
    }
   ],
   "source": [
    "print(tourism.groupby('AscLoc').count()) # Is missing a lot of values. Also evident that this type parameter does not contain price."
   ],
   "metadata": {
    "collapsed": false,
    "pycharm": {
     "name": "#%%\n"
    }
   }
  },
  {
   "cell_type": "code",
   "execution_count": 425,
   "outputs": [
    {
     "name": "stdout",
     "output_type": "stream",
     "text": [
      "                      Name  Rating  Num_Ratings  Id  Status  BusTypes\n",
      "AscLoc                                                               \n",
      "IUPUI                   60      60           60  60      60        60\n",
      "Industrious Mass Ave    54      54           54  54      54        54\n",
      "Launch Fishers          26      26           26  26      26        26\n",
      "Launch Indy             49      49           49  49      49        49\n",
      "The Speak Easy          38      38           38  38      38        38\n",
      "zWORKS                  12      12           12  12      12        12\n"
     ]
    }
   ],
   "source": [
    "# Getting rid of empty price column\n",
    "tourism.drop(columns=['Price'], inplace=True)\n",
    "\n",
    "# Imputing missing values using column averages of each group\n",
    "tourism['Rating'] = tourism.groupby('AscLoc').Rating.transform(lambda x: x.fillna(x.mean()))\n",
    "tourism['Num_Ratings'] = tourism.groupby('AscLoc').Num_Ratings.transform(lambda x: x.fillna(x.mean()))\n",
    "print(tourism.groupby('AscLoc').count())"
   ],
   "metadata": {
    "collapsed": false,
    "pycharm": {
     "name": "#%%\n"
    }
   }
  },
  {
   "cell_type": "code",
   "execution_count": 439,
   "outputs": [
    {
     "name": "stdout",
     "output_type": "stream",
     "text": [
      "                  Name              Address       Type             geometry  distance(km)  Avg Price  Price Variance  Avg Rating  Rating Variance  Avg Open  Avg Close  Avg Tourism Rating  \\\n",
      "0                IUPUI  415 Porto Alegre...    Housing  [39.77389, -86.1...          0.00       1.25            0.10        4.10             0.40      9.73      21.36                4.46   \n",
      "1  Industrious Mass...  350 Massachusett...  Coworking  [39.765831, -86....          2.50       1.97            0.63        4.14             0.47     11.86      21.14                4.55   \n",
      "2       Launch Fishers  12175 Visionary ...  Coworking  [39.9667636, -86...         26.19       1.48            0.22        4.06             0.46      9.71      21.00                4.57   \n",
      "3          Launch Indy  525 S Meridian S...  Coworking  [39.7593486, -86...          2.81       1.90            0.54        4.12             0.42     12.17      21.50                4.53   \n",
      "4       The Speak Easy  5255 Winthrop Av...  Coworking  [39.8488729, -86...          9.13       1.57            0.24        4.37             0.17     11.51      20.83                4.44   \n",
      "5               zWORKS  85 E Cedar St #1...  Coworking  [39.9514923, -86...         20.79       1.58            0.27        4.18             0.30     10.05      20.56                4.69   \n",
      "\n",
      "   Num Attractions  \n",
      "0               60  \n",
      "1               54  \n",
      "2               26  \n",
      "3               49  \n",
      "4               38  \n",
      "5               12  \n"
     ]
    }
   ],
   "source": [
    "locations['Avg Tourism Rating'] = round(tourism.groupby('AscLoc').Rating.mean(), 2).values.tolist()\n",
    "locations['Num Attractions'] = tourism.groupby('AscLoc').Rating.count().values.tolist()\n",
    "print(locations) # Average Rating doesn't say anything. It is likely dominated by the amount of parks. Instead we'll look at general diversity next."
   ],
   "metadata": {
    "collapsed": false,
    "pycharm": {
     "name": "#%%\n"
    }
   }
  },
  {
   "cell_type": "markdown",
   "source": [
    "### Investigating Types of Tourist Attractions and Relative Variety"
   ],
   "metadata": {
    "collapsed": false
   }
  },
  {
   "cell_type": "code",
   "execution_count": 419,
   "outputs": [],
   "source": [
    "types_to_remove = ['point_of_interest', 'establishment', 'restaurant', 'food', 'tourist_attraction', 'local_government_office', 'electronics_store', 'home_goods_store', 'lawyer', 'bar', 'school', 'parking', 'funeral_home', 'cemetery', 'store'] # Not interested in this information at the moment\n",
    "\n",
    "def prune_types(existing):\n",
    "    final = []\n",
    "    for i in existing:\n",
    "        if i not in types_to_remove:\n",
    "            final.append(i)\n",
    "    return final\n",
    "\n",
    "tourism.BusTypes = tourism.BusTypes.map(prune_types)"
   ],
   "metadata": {
    "collapsed": false,
    "pycharm": {
     "name": "#%%\n"
    }
   }
  },
  {
   "cell_type": "code",
   "execution_count": 421,
   "outputs": [
    {
     "name": "stdout",
     "output_type": "stream",
     "text": [
      "IUPUI [('park', 27), ('museum', 11), ('church', 3), ('place_of_worship', 3), ('art_gallery', 2), ('library', 2), ('zoo', 1), ('aquarium', 1), ('travel_agency', 1)] \n",
      "\n",
      "Industrious Mass Ave [('park', 20), ('museum', 10), ('church', 5), ('place_of_worship', 5), ('art_gallery', 2), ('library', 2), ('travel_agency', 1)] \n",
      "\n",
      "Launch Fishers [('park', 20), ('museum', 2), ('amusement_park', 1)] \n",
      "\n",
      "Launch Indy [('park', 18), ('museum', 8), ('church', 5), ('place_of_worship', 5), ('art_gallery', 2), ('library', 2), ('travel_agency', 1)] \n",
      "\n",
      "The Speak Easy [('park', 34), ('museum', 2), ('amusement_park', 1), ('church', 1), ('place_of_worship', 1)] \n",
      "\n",
      "zWORKS [('park', 10), ('museum', 1)] \n",
      "\n"
     ]
    }
   ],
   "source": [
    "all_unique = []\n",
    "for loc in tourism.AscLoc.unique():\n",
    "    unique = {}\n",
    "    for i in tourism[tourism.AscLoc == loc].BusTypes:\n",
    "        for type in i:\n",
    "            unique[type] = unique.get(type, 0) + 1\n",
    "            if type not in all_unique:\n",
    "                all_unique.append(type)\n",
    "    freqs = []\n",
    "    for i in unique.keys():\n",
    "        freqs.append((i, unique[i]))\n",
    "    freqs.sort(key = lambda x: x[1], reverse=True)\n",
    "    print(loc, freqs, '\\n')"
   ],
   "metadata": {
    "collapsed": false,
    "pycharm": {
     "name": "#%%\n"
    }
   }
  },
  {
   "cell_type": "markdown",
   "source": [
    "# Final DataFrames- Locations, Restaurants, and Tourist Attractions"
   ],
   "metadata": {
    "collapsed": false
   }
  },
  {
   "cell_type": "code",
   "execution_count": 440,
   "outputs": [
    {
     "name": "stdout",
     "output_type": "stream",
     "text": [
      "                  Name              Address       Type             geometry  distance(km)  Avg Price  Price Variance  Avg Rating  Rating Variance  Avg Open  Avg Close  Avg Tourism Rating  \\\n",
      "0                IUPUI  415 Porto Alegre...    Housing  [39.77389, -86.1...          0.00       1.25            0.10        4.10             0.40      9.73      21.36                4.46   \n",
      "1  Industrious Mass...  350 Massachusett...  Coworking  [39.765831, -86....          2.50       1.97            0.63        4.14             0.47     11.86      21.14                4.55   \n",
      "2       Launch Fishers  12175 Visionary ...  Coworking  [39.9667636, -86...         26.19       1.48            0.22        4.06             0.46      9.71      21.00                4.57   \n",
      "3          Launch Indy  525 S Meridian S...  Coworking  [39.7593486, -86...          2.81       1.90            0.54        4.12             0.42     12.17      21.50                4.53   \n",
      "4       The Speak Easy  5255 Winthrop Av...  Coworking  [39.8488729, -86...          9.13       1.57            0.24        4.37             0.17     11.51      20.83                4.44   \n",
      "5               zWORKS  85 E Cedar St #1...  Coworking  [39.9514923, -86...         20.79       1.58            0.27        4.18             0.30     10.05      20.56                4.69   \n",
      "\n",
      "   Num Attractions  \n",
      "0               60  \n",
      "1               54  \n",
      "2               26  \n",
      "3               49  \n",
      "4               38  \n",
      "5               12  \n"
     ]
    }
   ],
   "source": [
    "print(locations)"
   ],
   "metadata": {
    "collapsed": false,
    "pycharm": {
     "name": "#%%\n"
    }
   }
  },
  {
   "cell_type": "code",
   "execution_count": 437,
   "outputs": [
    {
     "name": "stdout",
     "output_type": "stream",
     "text": [
      "                    Name    Rating  Num_Ratings     Price                   Id              Status  AscLoc         BusTypes                Hours  Avg_Close   Avg_Open\n",
      "0    Café Soleil at E...  4.600000    37.000000  1.250000  ChIJ3Z7ruzdXa4gR...  CLOSED_TEMPORARILY   IUPUI               []  [[none, none], [...  21.363324   9.732601\n",
      "1        Farmer's Fridge  4.500000     2.000000  1.250000  ChIJtXOEuipXa4gR...         OPERATIONAL   IUPUI               []      [[00:00, none]]  30.000000   0.000000\n",
      "2    Ingram Micro Mob...  4.600000     7.000000  1.250000  ChIJoawzbTdXa4gR...         OPERATIONAL   IUPUI               []  [[06:00, 02:00],...  26.000000   6.000000\n",
      "3        Farmer's Fridge  4.098113   286.943396  1.250000  ChIJXWWxhStXa4gR...         OPERATIONAL   IUPUI               []      [[00:00, none]]  30.000000   0.000000\n",
      "4     Boar's Head Bistro  4.098113   286.943396  1.250000  ChIJHznwGgtXa4gR...         OPERATIONAL   IUPUI               []  [[none, none], [...  21.363324   9.732601\n",
      "..                   ...       ...          ...       ...                  ...                 ...     ...              ...                  ...        ...        ...\n",
      "355  Red Robin Gourme...  3.900000  1395.000000  2.000000  ChIJw3SPXMaqFIgR...         OPERATIONAL  zWORKS               []  [[11:00, 22:00],...  21.428571  11.000000\n",
      "356         Jimmy John's  3.600000   120.000000  1.000000  ChIJFZN0bsaqFIgR...         OPERATIONAL  zWORKS  [meal_delivery]  [[10:30, 20:00],...  20.000000  10.500000\n",
      "357  Thai Nine Restau...  4.900000    93.000000  1.583333  ChIJd_M_xterFIgR...         OPERATIONAL  zWORKS               []  [[12:00, 21:00],...  18.875000  13.375000\n",
      "358    Chin's Asia Fresh  4.400000    26.000000  1.583333  ChIJ0_VvFASrFIgR...  CLOSED_TEMPORARILY  zWORKS               []  [[none, none], [...  20.558668  10.047487\n",
      "359          Burger King  3.400000   307.000000  1.000000  ChIJBZG3AsaqFIgR...  CLOSED_TEMPORARILY  zWORKS               []  [[none, none], [...  20.558668  10.047487\n",
      "\n",
      "[360 rows x 11 columns]\n"
     ]
    }
   ],
   "source": [
    "print(restaurants)"
   ],
   "metadata": {
    "collapsed": false,
    "pycharm": {
     "name": "#%%\n"
    }
   }
  },
  {
   "cell_type": "code",
   "execution_count": 438,
   "outputs": [
    {
     "name": "stdout",
     "output_type": "stream",
     "text": [
      "                    Name  Rating  Num_Ratings                   Id              Status  AscLoc         BusTypes\n",
      "0            Ball Garden     4.7          3.0  ChIJ335SSTZXa4gR...         OPERATIONAL   IUPUI           [park]\n",
      "1        Stringtown Park     4.1         77.0  ChIJuasM5UNXa4gR...         OPERATIONAL   IUPUI           [park]\n",
      "2    Simon Skjodt Int...     4.8        172.0  ChIJOUBHmU5Xa4gR...         OPERATIONAL   IUPUI               []\n",
      "3       Indianapolis Zoo     4.5      14979.0  ChIJK1-_KkxXa4gR...         OPERATIONAL   IUPUI  [zoo, aquarium]\n",
      "4    White River Gardens     4.7        876.0  ChIJK1-_KkxXa4gR...  CLOSED_TEMPORARILY   IUPUI           [park]\n",
      "..                   ...     ...          ...                  ...                 ...     ...              ...\n",
      "234      Mulberry Fields     4.7        187.0  ChIJQcQU96dVE4gR...         OPERATIONAL  zWORKS           [park]\n",
      "235  Jill Perelman Pa...     4.8         17.0  ChIJf0_cYIirFIgR...         OPERATIONAL  zWORKS           [park]\n",
      "236            West Park     4.7        485.0  ChIJH00vfAarFIgR...  CLOSED_TEMPORARILY  zWORKS           [park]\n",
      "237  Hamilton County ...     4.7         19.0  ChIJz5YYDAurFIgR...         OPERATIONAL  zWORKS           [park]\n",
      "238      Coxhall Gardens     4.7        668.0  ChIJDVFl8wqrFIgR...         OPERATIONAL  zWORKS           [park]\n",
      "\n",
      "[239 rows x 7 columns]\n"
     ]
    }
   ],
   "source": [
    "print(tourism)"
   ],
   "metadata": {
    "collapsed": false,
    "pycharm": {
     "name": "#%%\n"
    }
   }
  }
 ],
 "metadata": {
  "kernelspec": {
   "display_name": "Python 3",
   "language": "python",
   "name": "python3"
  },
  "language_info": {
   "codemirror_mode": {
    "name": "ipython",
    "version": 2
   },
   "file_extension": ".py",
   "mimetype": "text/x-python",
   "name": "python",
   "nbconvert_exporter": "python",
   "pygments_lexer": "ipython2",
   "version": "2.7.6"
  }
 },
 "nbformat": 4,
 "nbformat_minor": 0
}